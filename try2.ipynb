{
 "cells": [
  {
   "cell_type": "code",
   "execution_count": 6,
   "metadata": {},
   "outputs": [],
   "source": [
    "import numpy as np\n",
    "import random\n",
    "\n",
    "dataSet = np.genfromtxt('x06simple.csv', delimiter=',')\n",
    "\n",
    "requiredData = dataSet[1:, 1:]\n",
    "\n",
    "# randomizing data prior to division into training and testing sets / standardization\n",
    "random.seed(0)\n",
    "\n",
    "np.random.shuffle(requiredData)\n",
    "\n",
    "trainingSamples = int(len(requiredData) * 2/3)\n",
    "\n",
    "# isolating the x and y values in two separate matrices prior to standardization to make the whole thing easier\n",
    "x_values_training = requiredData[:trainingSamples, :-1]\n",
    "y_values_training = requiredData[:trainingSamples, -1]\n",
    "\n",
    "x_values_testing = requiredData[trainingSamples:, :-1]\n",
    "y_values_testing = requiredData[trainingSamples:, -1]\n",
    "\n",
    "\n",
    "# standardization process\n",
    "\n",
    "training_mean = np.mean(x_values_training, axis=0)\n",
    "testing_mean = np.mean(x_values_testing, axis=0)\n",
    "\n",
    "training_sd = np.std(x_values_training, axis=0)\n",
    "testing_sd = np.std(x_values_testing, axis=0)\n",
    "\n",
    "standardized_training = (x_values_training - training_mean) / training_sd\n",
    "standardized_testing = (x_values_testing - testing_mean) / testing_sd\n",
    "\n",
    "# padding a column of 1s to the standardized matrices\n",
    "ones_training = np.ones((len(standardized_training), 1))\n",
    "ones_testing = np.ones((len(standardized_testing), 1))\n",
    "\n",
    "x_training = np.hstack((ones_training, standardized_training))\n",
    "x_testing = np.hstack((ones_testing, standardized_testing))\n",
    "\n",
    "# applying the closed form LSE rule\n",
    "# the rule is theta = (X'X)^(-1) * X' * Y\n",
    "\n",
    "x_training_transpose = np.transpose(x_training)"
   ]
  },
  {
   "cell_type": "code",
   "execution_count": 7,
   "metadata": {},
   "outputs": [],
   "source": [
    "x_training_matrix = np.matrix(x_training)\n",
    "x_training_transpose_matrix = np.matrix(x_training_transpose)"
   ]
  },
  {
   "cell_type": "code",
   "execution_count": 8,
   "metadata": {},
   "outputs": [],
   "source": [
    "x_xt =np.matmul(x_training_transpose_matrix, x_training_matrix)"
   ]
  },
  {
   "cell_type": "code",
   "execution_count": 9,
   "metadata": {},
   "outputs": [],
   "source": [
    "x_xt_inverse = x_xt.I"
   ]
  },
  {
   "cell_type": "code",
   "execution_count": 10,
   "metadata": {},
   "outputs": [],
   "source": [
    "x_xt_inverse_xt = np.matmul(x_xt_inverse, x_training_transpose)"
   ]
  },
  {
   "cell_type": "code",
   "execution_count": 11,
   "metadata": {},
   "outputs": [],
   "source": [
    "weights = np.matmul(x_xt_inverse_xt, y_values_training)"
   ]
  },
  {
   "cell_type": "code",
   "execution_count": 12,
   "metadata": {},
   "outputs": [
    {
     "name": "stdout",
     "output_type": "stream",
     "text": [
      "[[3069.72413793 1204.58199143 -261.56030329]]\n"
     ]
    }
   ],
   "source": [
    "print(weights)"
   ]
  },
  {
   "cell_type": "code",
   "execution_count": 13,
   "metadata": {},
   "outputs": [
    {
     "data": {
      "text/plain": [
       "matrix([[2241.57201291],\n",
       "        [5708.02521984],\n",
       "        [2740.59381346],\n",
       "        [1043.01162432],\n",
       "        [3475.77681583],\n",
       "        [1751.49522981],\n",
       "        [3711.93801766],\n",
       "        [3974.79861637],\n",
       "        [2005.41081108],\n",
       "        [3212.91621712],\n",
       "        [ 780.15102561],\n",
       "        [3738.63741454],\n",
       "        [4237.65921509],\n",
       "        [2713.89441658],\n",
       "        [4709.98161875]])"
      ]
     },
     "execution_count": 13,
     "metadata": {},
     "output_type": "execute_result"
    }
   ],
   "source": [
    "np.matmul (np.matrix(x_testing), np.matrix(weights.T))"
   ]
  },
  {
   "cell_type": "code",
   "execution_count": 14,
   "metadata": {},
   "outputs": [
    {
     "name": "stdout",
     "output_type": "stream",
     "text": [
      "[[ 1.          1.06120421 -0.60023282]\n",
      " [ 1.         -0.40926988  1.23205685]\n",
      " [ 1.          0.76710939  1.23205685]\n",
      " [ 1.          0.17891975 -1.51637766]\n",
      " [ 1.          1.35529903 -1.51637766]\n",
      " [ 1.         -1.56464238 -0.60023282]\n",
      " [ 1.          0.76710939 -1.51637766]\n",
      " [ 1.          1.35529903  1.23205685]\n",
      " [ 1.         -0.99745952 -0.60023282]\n",
      " [ 1.         -0.99745952 -1.51637766]\n",
      " [ 1.          0.47301457  1.23205685]\n",
      " [ 1.         -1.27054756 -0.60023282]\n",
      " [ 1.         -0.99745952  0.31591201]\n",
      " [ 1.         -1.56464238  1.23205685]\n",
      " [ 1.          1.35529903  0.31591201]\n",
      " [ 1.          0.76710939 -0.60023282]\n",
      " [ 1.          1.06120421  0.31591201]\n",
      " [ 1.         -1.56464238 -1.51637766]\n",
      " [ 1.          1.06120421  1.23205685]\n",
      " [ 1.         -0.11517506  1.23205685]\n",
      " [ 1.         -1.27054756  0.31591201]\n",
      " [ 1.          0.47301457 -0.60023282]\n",
      " [ 1.         -0.99745952  1.23205685]\n",
      " [ 1.         -0.11517506  0.31591201]\n",
      " [ 1.          0.76710939  0.31591201]\n",
      " [ 1.          1.35529903 -0.60023282]\n",
      " [ 1.         -0.7033647  -0.60023282]\n",
      " [ 1.          0.17891975  1.23205685]\n",
      " [ 1.         -0.40926988 -0.60023282]]\n"
     ]
    }
   ],
   "source": [
    "print(x_training)"
   ]
  },
  {
   "cell_type": "code",
   "execution_count": 15,
   "metadata": {},
   "outputs": [
    {
     "name": "stdout",
     "output_type": "stream",
     "text": [
      "[[3069.72413793 1204.58199143 -261.56030329]]\n"
     ]
    }
   ],
   "source": [
    "print(weights)\n"
   ]
  },
  {
   "cell_type": "code",
   "execution_count": null,
   "metadata": {},
   "outputs": [],
   "source": []
  }
 ],
 "metadata": {
  "kernelspec": {
   "display_name": "Python 3",
   "language": "python",
   "name": "python3"
  },
  "language_info": {
   "codemirror_mode": {
    "name": "ipython",
    "version": 3
   },
   "file_extension": ".py",
   "mimetype": "text/x-python",
   "name": "python",
   "nbconvert_exporter": "python",
   "pygments_lexer": "ipython3",
   "version": "3.7.1"
  }
 },
 "nbformat": 4,
 "nbformat_minor": 2
}
