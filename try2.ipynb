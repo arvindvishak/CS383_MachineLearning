{
 "cells": [
  {
   "cell_type": "code",
   "execution_count": 3,
   "metadata": {},
   "outputs": [],
   "source": [
    "import numpy as np\n",
    "\n",
    "\n",
    "dataSet = np.genfromtxt('x06simple.csv', delimiter=',')\n",
    "\n",
    "requiredData = dataSet[1:, 1:]\n",
    "\n",
    "# randomizing data prior to division into training and testing sets / standardization\n",
    "\n",
    "np.random.shuffle(requiredData)\n",
    "\n",
    "trainingSamples = int(len(requiredData) * 2/3)\n",
    "\n",
    "# isolating the x and y values in two separate matrices prior to standardization to make the whole thing easier\n",
    "x_values_training = requiredData[:trainingSamples, :-1]\n",
    "y_values_training = requiredData[:trainingSamples, -1]\n",
    "\n",
    "x_values_testing = requiredData[trainingSamples:, :-1]\n",
    "y_values_testing = requiredData[trainingSamples:, -1]\n",
    "\n",
    "\n",
    "# standardization process\n",
    "\n",
    "training_mean = np.mean(x_values_training, axis=0)\n",
    "testing_mean = np.mean(x_values_testing, axis=0)\n",
    "\n",
    "training_sd = np.std(x_values_training, axis=0)\n",
    "testing_sd = np.std(x_values_testing, axis=0)\n",
    "\n",
    "standardized_training = (x_values_training - training_mean) / training_sd\n",
    "standardized_testing = (x_values_testing - testing_mean) / testing_sd\n",
    "\n",
    "# padding a column of 1s to the standardized matrices\n",
    "ones_training = np.ones((len(standardized_training), 1))\n",
    "ones_testing = np.ones((len(standardized_testing), 1))\n",
    "\n",
    "x_training = np.hstack((ones_training, standardized_training))\n",
    "x_testing = np.hstack((ones_testing, standardized_testing))\n",
    "\n",
    "# applying the closed form LSE rule\n",
    "# the rule is theta = (X'X)^(-1) * X' * Y\n",
    "\n",
    "x_training_transpose = np.transpose(x_training)"
   ]
  },
  {
   "cell_type": "code",
   "execution_count": 6,
   "metadata": {},
   "outputs": [],
   "source": [
    "x_training_matrix = np.matrix(x_training)\n",
    "x_training_transpose_matrix = np.matrix(x_training_transpose)"
   ]
  },
  {
   "cell_type": "code",
   "execution_count": 8,
   "metadata": {},
   "outputs": [],
   "source": [
    "x_xt =np.matmul(x_training_transpose_matrix, x_training_matrix)"
   ]
  },
  {
   "cell_type": "code",
   "execution_count": 10,
   "metadata": {},
   "outputs": [],
   "source": [
    "x_xt_inverse = x_xt.I"
   ]
  },
  {
   "cell_type": "code",
   "execution_count": 11,
   "metadata": {},
   "outputs": [],
   "source": [
    "x_xt_inverse_xt = np.matmul(x_xt_inverse, x_training_transpose)"
   ]
  },
  {
   "cell_type": "code",
   "execution_count": 12,
   "metadata": {},
   "outputs": [],
   "source": [
    "theta = np.matmul(x_xt_inverse_xt, y_values_training)"
   ]
  },
  {
   "cell_type": "code",
   "execution_count": 13,
   "metadata": {},
   "outputs": [
    {
     "name": "stdout",
     "output_type": "stream",
     "text": [
      "[[3206.34482759 1133.95583542 -216.9802824 ]]\n"
     ]
    }
   ],
   "source": [
    "print(theta)"
   ]
  },
  {
   "cell_type": "code",
   "execution_count": null,
   "metadata": {},
   "outputs": [],
   "source": []
  }
 ],
 "metadata": {
  "kernelspec": {
   "display_name": "Python 3",
   "language": "python",
   "name": "python3"
  },
  "language_info": {
   "codemirror_mode": {
    "name": "ipython",
    "version": 3
   },
   "file_extension": ".py",
   "mimetype": "text/x-python",
   "name": "python",
   "nbconvert_exporter": "python",
   "pygments_lexer": "ipython3",
   "version": "3.7.1"
  }
 },
 "nbformat": 4,
 "nbformat_minor": 2
}
