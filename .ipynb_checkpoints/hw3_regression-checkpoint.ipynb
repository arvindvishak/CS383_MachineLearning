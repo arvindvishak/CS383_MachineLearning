{
 "cells": [
  {
   "cell_type": "markdown",
   "metadata": {},
   "source": [
    "### Jared Balakrishnan\n",
    "### CS383: Machine Learning\n",
    "### Dr.Matt Burlick\n",
    "### February 12, 2019\n"
   ]
  },
  {
   "cell_type": "code",
   "execution_count": 2,
   "metadata": {},
   "outputs": [],
   "source": [
    "import numpy as np\n",
    "import pandas as pd\n",
    "import cv2\n",
    "import random\n",
    "import math"
   ]
  },
  {
   "cell_type": "code",
   "execution_count": 3,
   "metadata": {},
   "outputs": [
    {
     "ename": "OSError",
     "evalue": "x06Simple.csv not found.",
     "output_type": "error",
     "traceback": [
      "\u001b[0;31m---------------------------------------------------------------------------\u001b[0m",
      "\u001b[0;31mOSError\u001b[0m                                   Traceback (most recent call last)",
      "\u001b[0;32m<ipython-input-3-5c36e7d069ba>\u001b[0m in \u001b[0;36m<module>\u001b[0;34m\u001b[0m\n\u001b[0;32m----> 1\u001b[0;31m \u001b[0mdataSet\u001b[0m \u001b[0;34m=\u001b[0m \u001b[0mnp\u001b[0m\u001b[0;34m.\u001b[0m\u001b[0mgenfromtxt\u001b[0m\u001b[0;34m(\u001b[0m\u001b[0;34m'x06Simple.csv'\u001b[0m\u001b[0;34m,\u001b[0m \u001b[0mdelimiter\u001b[0m \u001b[0;34m=\u001b[0m \u001b[0;34m','\u001b[0m\u001b[0;34m)\u001b[0m\u001b[0;34m\u001b[0m\u001b[0;34m\u001b[0m\u001b[0m\n\u001b[0m",
      "\u001b[0;32m/anaconda3/lib/python3.7/site-packages/numpy/lib/npyio.py\u001b[0m in \u001b[0;36mgenfromtxt\u001b[0;34m(fname, dtype, comments, delimiter, skip_header, skip_footer, converters, missing_values, filling_values, usecols, names, excludelist, deletechars, replace_space, autostrip, case_sensitive, defaultfmt, unpack, usemask, loose, invalid_raise, max_rows, encoding)\u001b[0m\n\u001b[1;32m   1698\u001b[0m             \u001b[0mfname\u001b[0m \u001b[0;34m=\u001b[0m \u001b[0mstr\u001b[0m\u001b[0;34m(\u001b[0m\u001b[0mfname\u001b[0m\u001b[0;34m)\u001b[0m\u001b[0;34m\u001b[0m\u001b[0;34m\u001b[0m\u001b[0m\n\u001b[1;32m   1699\u001b[0m         \u001b[0;32mif\u001b[0m \u001b[0misinstance\u001b[0m\u001b[0;34m(\u001b[0m\u001b[0mfname\u001b[0m\u001b[0;34m,\u001b[0m \u001b[0mbasestring\u001b[0m\u001b[0;34m)\u001b[0m\u001b[0;34m:\u001b[0m\u001b[0;34m\u001b[0m\u001b[0;34m\u001b[0m\u001b[0m\n\u001b[0;32m-> 1700\u001b[0;31m             \u001b[0mfhd\u001b[0m \u001b[0;34m=\u001b[0m \u001b[0miter\u001b[0m\u001b[0;34m(\u001b[0m\u001b[0mnp\u001b[0m\u001b[0;34m.\u001b[0m\u001b[0mlib\u001b[0m\u001b[0;34m.\u001b[0m\u001b[0m_datasource\u001b[0m\u001b[0;34m.\u001b[0m\u001b[0mopen\u001b[0m\u001b[0;34m(\u001b[0m\u001b[0mfname\u001b[0m\u001b[0;34m,\u001b[0m \u001b[0;34m'rt'\u001b[0m\u001b[0;34m,\u001b[0m \u001b[0mencoding\u001b[0m\u001b[0;34m=\u001b[0m\u001b[0mencoding\u001b[0m\u001b[0;34m)\u001b[0m\u001b[0;34m)\u001b[0m\u001b[0;34m\u001b[0m\u001b[0;34m\u001b[0m\u001b[0m\n\u001b[0m\u001b[1;32m   1701\u001b[0m             \u001b[0mown_fhd\u001b[0m \u001b[0;34m=\u001b[0m \u001b[0;32mTrue\u001b[0m\u001b[0;34m\u001b[0m\u001b[0;34m\u001b[0m\u001b[0m\n\u001b[1;32m   1702\u001b[0m         \u001b[0;32melse\u001b[0m\u001b[0;34m:\u001b[0m\u001b[0;34m\u001b[0m\u001b[0;34m\u001b[0m\u001b[0m\n",
      "\u001b[0;32m/anaconda3/lib/python3.7/site-packages/numpy/lib/_datasource.py\u001b[0m in \u001b[0;36mopen\u001b[0;34m(path, mode, destpath, encoding, newline)\u001b[0m\n\u001b[1;32m    260\u001b[0m \u001b[0;34m\u001b[0m\u001b[0m\n\u001b[1;32m    261\u001b[0m     \u001b[0mds\u001b[0m \u001b[0;34m=\u001b[0m \u001b[0mDataSource\u001b[0m\u001b[0;34m(\u001b[0m\u001b[0mdestpath\u001b[0m\u001b[0;34m)\u001b[0m\u001b[0;34m\u001b[0m\u001b[0;34m\u001b[0m\u001b[0m\n\u001b[0;32m--> 262\u001b[0;31m     \u001b[0;32mreturn\u001b[0m \u001b[0mds\u001b[0m\u001b[0;34m.\u001b[0m\u001b[0mopen\u001b[0m\u001b[0;34m(\u001b[0m\u001b[0mpath\u001b[0m\u001b[0;34m,\u001b[0m \u001b[0mmode\u001b[0m\u001b[0;34m,\u001b[0m \u001b[0mencoding\u001b[0m\u001b[0;34m=\u001b[0m\u001b[0mencoding\u001b[0m\u001b[0;34m,\u001b[0m \u001b[0mnewline\u001b[0m\u001b[0;34m=\u001b[0m\u001b[0mnewline\u001b[0m\u001b[0;34m)\u001b[0m\u001b[0;34m\u001b[0m\u001b[0;34m\u001b[0m\u001b[0m\n\u001b[0m\u001b[1;32m    263\u001b[0m \u001b[0;34m\u001b[0m\u001b[0m\n\u001b[1;32m    264\u001b[0m \u001b[0;34m\u001b[0m\u001b[0m\n",
      "\u001b[0;32m/anaconda3/lib/python3.7/site-packages/numpy/lib/_datasource.py\u001b[0m in \u001b[0;36mopen\u001b[0;34m(self, path, mode, encoding, newline)\u001b[0m\n\u001b[1;32m    616\u001b[0m                                       encoding=encoding, newline=newline)\n\u001b[1;32m    617\u001b[0m         \u001b[0;32melse\u001b[0m\u001b[0;34m:\u001b[0m\u001b[0;34m\u001b[0m\u001b[0;34m\u001b[0m\u001b[0m\n\u001b[0;32m--> 618\u001b[0;31m             \u001b[0;32mraise\u001b[0m \u001b[0mIOError\u001b[0m\u001b[0;34m(\u001b[0m\u001b[0;34m\"%s not found.\"\u001b[0m \u001b[0;34m%\u001b[0m \u001b[0mpath\u001b[0m\u001b[0;34m)\u001b[0m\u001b[0;34m\u001b[0m\u001b[0;34m\u001b[0m\u001b[0m\n\u001b[0m\u001b[1;32m    619\u001b[0m \u001b[0;34m\u001b[0m\u001b[0m\n\u001b[1;32m    620\u001b[0m \u001b[0;34m\u001b[0m\u001b[0m\n",
      "\u001b[0;31mOSError\u001b[0m: x06Simple.csv not found."
     ]
    }
   ],
   "source": [
    "dataSet = np.genfromtxt('x06Simple.csv', delimiter = ',')"
   ]
  },
  {
   "cell_type": "code",
   "execution_count": 6,
   "metadata": {},
   "outputs": [],
   "source": [
    "requiredData = dataSet[1:, 1:]"
   ]
  },
  {
   "cell_type": "code",
   "execution_count": 7,
   "metadata": {},
   "outputs": [
    {
     "name": "stdout",
     "output_type": "stream",
     "text": [
      "(44, 3)\n"
     ]
    }
   ],
   "source": [
    "print(requiredData.shape)"
   ]
  },
  {
   "cell_type": "code",
   "execution_count": 8,
   "metadata": {},
   "outputs": [
    {
     "name": "stdout",
     "output_type": "stream",
     "text": [
      "[[  14.   25.  620.]\n",
      " [  28.   25. 1315.]\n",
      " [  41.   25. 2120.]\n",
      " [  55.   25. 2600.]\n",
      " [  69.   25. 3110.]\n",
      " [  83.   25. 3535.]\n",
      " [  97.   25. 3935.]\n",
      " [ 111.   25. 4465.]\n",
      " [ 125.   25. 4530.]\n",
      " [ 139.   25. 4570.]\n",
      " [ 153.   25. 4600.]\n",
      " [  14.   27.  625.]\n",
      " [  28.   27. 1215.]\n",
      " [  41.   27. 2110.]\n",
      " [  55.   27. 2805.]\n",
      " [  69.   27. 3255.]\n",
      " [  83.   27. 4015.]\n",
      " [  97.   27. 4315.]\n",
      " [ 111.   27. 4495.]\n",
      " [ 125.   27. 4535.]\n",
      " [ 139.   27. 4600.]\n",
      " [ 153.   27. 4600.]\n",
      " [  14.   29.  590.]\n",
      " [  28.   29. 1305.]\n",
      " [  41.   29. 2140.]\n",
      " [  55.   29. 2890.]\n",
      " [  69.   29. 3920.]\n",
      " [  83.   29. 3920.]\n",
      " [  97.   29. 4515.]\n",
      " [ 111.   29. 4520.]\n",
      " [ 125.   29. 4525.]\n",
      " [ 139.   29. 4565.]\n",
      " [ 153.   29. 4566.]\n",
      " [  14.   31.  590.]\n",
      " [  28.   31. 1205.]\n",
      " [  41.   31. 1915.]\n",
      " [  55.   31. 2140.]\n",
      " [  69.   31. 2710.]\n",
      " [  83.   31. 3020.]\n",
      " [  97.   31. 3030.]\n",
      " [ 111.   31. 3040.]\n",
      " [ 125.   31. 3180.]\n",
      " [ 139.   31. 3257.]\n",
      " [ 153.   31. 3214.]]\n"
     ]
    }
   ],
   "source": [
    "print(requiredData)"
   ]
  },
  {
   "cell_type": "code",
   "execution_count": 10,
   "metadata": {},
   "outputs": [],
   "source": [
    "np.random.shuffle(requiredData)"
   ]
  },
  {
   "cell_type": "code",
   "execution_count": 11,
   "metadata": {},
   "outputs": [
    {
     "name": "stdout",
     "output_type": "stream",
     "text": [
      "[[  97.   29. 4515.]\n",
      " [  83.   31. 3020.]\n",
      " [ 111.   25. 4465.]\n",
      " [  55.   25. 2600.]\n",
      " [ 125.   29. 4525.]\n",
      " [  83.   29. 3920.]\n",
      " [  83.   25. 3535.]\n",
      " [  14.   29.  590.]\n",
      " [  41.   27. 2110.]\n",
      " [ 139.   25. 4570.]\n",
      " [  55.   31. 2140.]\n",
      " [  97.   31. 3030.]\n",
      " [ 139.   27. 4600.]\n",
      " [ 153.   27. 4600.]\n",
      " [  14.   31.  590.]\n",
      " [ 111.   29. 4520.]\n",
      " [  14.   25.  620.]\n",
      " [ 111.   27. 4495.]\n",
      " [  97.   25. 3935.]\n",
      " [  14.   27.  625.]\n",
      " [  55.   29. 2890.]\n",
      " [  83.   27. 4015.]\n",
      " [  97.   27. 4315.]\n",
      " [  55.   27. 2805.]\n",
      " [ 111.   31. 3040.]\n",
      " [  28.   31. 1205.]\n",
      " [ 125.   25. 4530.]\n",
      " [  69.   25. 3110.]\n",
      " [  41.   29. 2140.]\n",
      " [  69.   29. 3920.]\n",
      " [ 153.   29. 4566.]\n",
      " [ 125.   31. 3180.]\n",
      " [ 139.   31. 3257.]\n",
      " [  28.   29. 1305.]\n",
      " [ 139.   29. 4565.]\n",
      " [  69.   27. 3255.]\n",
      " [  41.   31. 1915.]\n",
      " [ 153.   31. 3214.]\n",
      " [ 125.   27. 4535.]\n",
      " [ 153.   25. 4600.]\n",
      " [  41.   25. 2120.]\n",
      " [  28.   25. 1315.]\n",
      " [  28.   27. 1215.]\n",
      " [  69.   31. 2710.]]\n"
     ]
    }
   ],
   "source": [
    "print(requiredData)"
   ]
  },
  {
   "cell_type": "code",
   "execution_count": 28,
   "metadata": {},
   "outputs": [],
   "source": [
    "dataLength = len(requiredData)"
   ]
  },
  {
   "cell_type": "code",
   "execution_count": 31,
   "metadata": {},
   "outputs": [
    {
     "name": "stdout",
     "output_type": "stream",
     "text": [
      "44\n"
     ]
    }
   ],
   "source": [
    "print(dataLength)"
   ]
  },
  {
   "cell_type": "code",
   "execution_count": 32,
   "metadata": {},
   "outputs": [],
   "source": [
    "twoThirds = math.ceil(len(requiredData) * 2/3)"
   ]
  },
  {
   "cell_type": "code",
   "execution_count": 24,
   "metadata": {},
   "outputs": [],
   "source": [
    "trainingSet = requiredData[:twoThirds, :]"
   ]
  },
  {
   "cell_type": "code",
   "execution_count": 25,
   "metadata": {},
   "outputs": [
    {
     "name": "stdout",
     "output_type": "stream",
     "text": [
      "[[  97.   29. 4515.]\n",
      " [  83.   31. 3020.]\n",
      " [ 111.   25. 4465.]\n",
      " [  55.   25. 2600.]\n",
      " [ 125.   29. 4525.]\n",
      " [  83.   29. 3920.]\n",
      " [  83.   25. 3535.]\n",
      " [  14.   29.  590.]\n",
      " [  41.   27. 2110.]\n",
      " [ 139.   25. 4570.]\n",
      " [  55.   31. 2140.]\n",
      " [  97.   31. 3030.]\n",
      " [ 139.   27. 4600.]\n",
      " [ 153.   27. 4600.]\n",
      " [  14.   31.  590.]\n",
      " [ 111.   29. 4520.]\n",
      " [  14.   25.  620.]\n",
      " [ 111.   27. 4495.]\n",
      " [  97.   25. 3935.]\n",
      " [  14.   27.  625.]\n",
      " [  55.   29. 2890.]\n",
      " [  83.   27. 4015.]\n",
      " [  97.   27. 4315.]\n",
      " [  55.   27. 2805.]\n",
      " [ 111.   31. 3040.]\n",
      " [  28.   31. 1205.]\n",
      " [ 125.   25. 4530.]\n",
      " [  69.   25. 3110.]\n",
      " [  41.   29. 2140.]\n",
      " [  69.   29. 3920.]]\n"
     ]
    }
   ],
   "source": [
    "print(trainingSet)"
   ]
  },
  {
   "cell_type": "code",
   "execution_count": 26,
   "metadata": {},
   "outputs": [
    {
     "name": "stdout",
     "output_type": "stream",
     "text": [
      "30\n"
     ]
    }
   ],
   "source": [
    "print(len(trainingSet))"
   ]
  },
  {
   "cell_type": "code",
   "execution_count": 27,
   "metadata": {},
   "outputs": [
    {
     "name": "stdout",
     "output_type": "stream",
     "text": [
      "(30, 3)\n"
     ]
    }
   ],
   "source": [
    "print(trainingSet.shape)"
   ]
  },
  {
   "cell_type": "code",
   "execution_count": 38,
   "metadata": {},
   "outputs": [],
   "source": [
    "testingSet = requiredData[(twoThirds):, :]"
   ]
  },
  {
   "cell_type": "code",
   "execution_count": 39,
   "metadata": {},
   "outputs": [
    {
     "name": "stdout",
     "output_type": "stream",
     "text": [
      "(14, 3)\n"
     ]
    }
   ],
   "source": [
    "print(testingSet.shape)"
   ]
  },
  {
   "cell_type": "markdown",
   "metadata": {},
   "source": [
    "# Training Data Set Standardization\n",
    "     All columns except for the last column of the training matrix are standardized"
   ]
  },
  {
   "cell_type": "code",
   "execution_count": 54,
   "metadata": {},
   "outputs": [],
   "source": [
    "average_trainingSet = np.mean(trainingSet[:,:-1])"
   ]
  },
  {
   "cell_type": "code",
   "execution_count": 55,
   "metadata": {},
   "outputs": [],
   "source": [
    "sd_trainingSet = np.std(trainingSet[:,:-1])"
   ]
  },
  {
   "cell_type": "code",
   "execution_count": 56,
   "metadata": {},
   "outputs": [
    {
     "name": "stdout",
     "output_type": "stream",
     "text": [
      "53.38333333333333\n"
     ]
    }
   ],
   "source": [
    "print(average_trainingSet)"
   ]
  },
  {
   "cell_type": "code",
   "execution_count": 57,
   "metadata": {},
   "outputs": [
    {
     "name": "stdout",
     "output_type": "stream",
     "text": [
      "38.006180053015356\n"
     ]
    }
   ],
   "source": [
    "print(sd_trainingSet)"
   ]
  },
  {
   "cell_type": "code",
   "execution_count": 58,
   "metadata": {},
   "outputs": [
    {
     "name": "stdout",
     "output_type": "stream",
     "text": [
      "[[ 97.  29.]\n",
      " [ 83.  31.]\n",
      " [111.  25.]\n",
      " [ 55.  25.]\n",
      " [125.  29.]\n",
      " [ 83.  29.]\n",
      " [ 83.  25.]\n",
      " [ 14.  29.]\n",
      " [ 41.  27.]\n",
      " [139.  25.]\n",
      " [ 55.  31.]\n",
      " [ 97.  31.]\n",
      " [139.  27.]\n",
      " [153.  27.]\n",
      " [ 14.  31.]\n",
      " [111.  29.]\n",
      " [ 14.  25.]\n",
      " [111.  27.]\n",
      " [ 97.  25.]\n",
      " [ 14.  27.]\n",
      " [ 55.  29.]\n",
      " [ 83.  27.]\n",
      " [ 97.  27.]\n",
      " [ 55.  27.]\n",
      " [111.  31.]\n",
      " [ 28.  31.]\n",
      " [125.  25.]\n",
      " [ 69.  25.]\n",
      " [ 41.  29.]\n",
      " [ 69.  29.]]\n"
     ]
    }
   ],
   "source": [
    "print(trainingSet[:,:-1])"
   ]
  },
  {
   "cell_type": "code",
   "execution_count": 1,
   "metadata": {},
   "outputs": [
    {
     "ename": "NameError",
     "evalue": "name 'trainingSet' is not defined",
     "output_type": "error",
     "traceback": [
      "\u001b[0;31m---------------------------------------------------------------------------\u001b[0m",
      "\u001b[0;31mNameError\u001b[0m                                 Traceback (most recent call last)",
      "\u001b[0;32m<ipython-input-1-253101486ddb>\u001b[0m in \u001b[0;36m<module>\u001b[0;34m\u001b[0m\n\u001b[0;32m----> 1\u001b[0;31m \u001b[0mstandardized_trainingSet\u001b[0m \u001b[0;34m=\u001b[0m \u001b[0;34m(\u001b[0m\u001b[0mtrainingSet\u001b[0m \u001b[0;34m-\u001b[0m \u001b[0maverage_trainingSet\u001b[0m\u001b[0;34m)\u001b[0m \u001b[0;34m/\u001b[0m \u001b[0msd_trainingSet\u001b[0m\u001b[0;34m\u001b[0m\u001b[0;34m\u001b[0m\u001b[0m\n\u001b[0m",
      "\u001b[0;31mNameError\u001b[0m: name 'trainingSet' is not defined"
     ]
    }
   ],
   "source": [
    "standardized_trainingSet = (trainingSet - average_trainingSet) / sd_trainingSet"
   ]
  },
  {
   "cell_type": "code",
   "execution_count": 51,
   "metadata": {},
   "outputs": [
    {
     "name": "stdout",
     "output_type": "stream",
     "text": [
      "53.38333333333333\n"
     ]
    }
   ],
   "source": [
    "print(average_trainingSet)"
   ]
  },
  {
   "cell_type": "code",
   "execution_count": 60,
   "metadata": {},
   "outputs": [
    {
     "name": "stdout",
     "output_type": "stream",
     "text": [
      "[[ 1.14762038e+00 -6.41562327e-01  1.17391873e+02]\n",
      " [ 7.79259232e-01 -5.88939307e-01  7.80561651e+01]\n",
      " [ 1.51598152e+00 -7.46808369e-01  1.16076298e+02]\n",
      " [ 4.25369417e-02 -7.46808369e-01  6.70053308e+01]\n",
      " [ 1.88434267e+00 -6.41562327e-01  1.17654988e+02]\n",
      " [ 7.79259232e-01 -6.41562327e-01  1.01736524e+02]\n",
      " [ 7.79259232e-01 -7.46808369e-01  9.16065930e+01]\n",
      " [-1.03623498e+00 -6.41562327e-01  1.41191950e+01]\n",
      " [-3.25824203e-01 -6.94185348e-01  5.41126907e+01]\n",
      " [ 2.25270381e+00 -7.46808369e-01  1.18839006e+02]\n",
      " [ 4.25369417e-02 -5.88939307e-01  5.49020360e+01]\n",
      " [ 1.14762038e+00 -5.88939307e-01  7.83192802e+01]\n",
      " [ 2.25270381e+00 -6.94185348e-01  1.19628352e+02]\n",
      " [ 2.62106496e+00 -6.94185348e-01  1.19628352e+02]\n",
      " [-1.03623498e+00 -5.88939307e-01  1.41191950e+01]\n",
      " [ 1.51598152e+00 -6.41562327e-01  1.17523431e+02]\n",
      " [-1.03623498e+00 -7.46808369e-01  1.49085403e+01]\n",
      " [ 1.51598152e+00 -6.94185348e-01  1.16865643e+02]\n",
      " [ 1.14762038e+00 -7.46808369e-01  1.02131197e+02]\n",
      " [-1.03623498e+00 -6.94185348e-01  1.50400978e+01]\n",
      " [ 4.25369417e-02 -6.41562327e-01  7.46356688e+01]\n",
      " [ 7.79259232e-01 -6.94185348e-01  1.04236118e+02]\n",
      " [ 1.14762038e+00 -6.94185348e-01  1.12129571e+02]\n",
      " [ 4.25369417e-02 -6.94185348e-01  7.23991904e+01]\n",
      " [ 1.51598152e+00 -5.88939307e-01  7.85823953e+01]\n",
      " [-6.67873838e-01 -5.88939307e-01  3.03007738e+01]\n",
      " [ 1.88434267e+00 -7.46808369e-01  1.17786546e+02]\n",
      " [ 4.10898087e-01 -7.46808369e-01  8.04242011e+01]\n",
      " [-3.25824203e-01 -6.41562327e-01  5.49020360e+01]\n",
      " [ 4.10898087e-01 -6.41562327e-01  1.01736524e+02]]\n"
     ]
    }
   ],
   "source": [
    "print(standardized_trainingSet)"
   ]
  },
  {
   "cell_type": "code",
   "execution_count": 52,
   "metadata": {},
   "outputs": [],
   "source": [
    "standardDeviation_trainingSet = np.std(trainingSet[:,:-1])"
   ]
  },
  {
   "cell_type": "code",
   "execution_count": 53,
   "metadata": {},
   "outputs": [
    {
     "name": "stdout",
     "output_type": "stream",
     "text": [
      "38.006180053015356\n"
     ]
    }
   ],
   "source": [
    "print(standardDeviation_trainingSet)"
   ]
  },
  {
   "cell_type": "code",
   "execution_count": 63,
   "metadata": {},
   "outputs": [],
   "source": [
    "last_column_alone = trainingSet[:,-1]"
   ]
  },
  {
   "cell_type": "code",
   "execution_count": 64,
   "metadata": {},
   "outputs": [
    {
     "name": "stdout",
     "output_type": "stream",
     "text": [
      "[4515. 3020. 4465. 2600. 4525. 3920. 3535.  590. 2110. 4570. 2140. 3030.\n",
      " 4600. 4600.  590. 4520.  620. 4495. 3935.  625. 2890. 4015. 4315. 2805.\n",
      " 3040. 1205. 4530. 3110. 2140. 3920.]\n"
     ]
    }
   ],
   "source": [
    "print(last_column_alone)"
   ]
  },
  {
   "cell_type": "code",
   "execution_count": 66,
   "metadata": {},
   "outputs": [],
   "source": [
    "st = last_column_alone - average_trainingSet"
   ]
  },
  {
   "cell_type": "code",
   "execution_count": 67,
   "metadata": {},
   "outputs": [
    {
     "data": {
      "text/plain": [
       "array([117.39187312,  78.05616514, 116.07629761,  67.00533079,\n",
       "       117.65498823, 101.73652446,  91.60659298,  14.11919498,\n",
       "        54.11269072, 118.83900619,  54.90203603,  78.31928025,\n",
       "       119.6283515 , 119.6283515 ,  14.11919498, 117.52343067,\n",
       "        14.90854029, 116.86564292, 102.13119712,  15.04009784,\n",
       "        74.6356688 , 104.23611795, 112.12957105,  72.39919042,\n",
       "        78.58239535,  30.30077385, 117.78654578,  80.42420107,\n",
       "        54.90203603, 101.73652446])"
      ]
     },
     "execution_count": 67,
     "metadata": {},
     "output_type": "execute_result"
    }
   ],
   "source": [
    "st / sd_trainingSet"
   ]
  },
  {
   "cell_type": "code",
   "execution_count": null,
   "metadata": {},
   "outputs": [],
   "source": []
  }
 ],
 "metadata": {
  "kernelspec": {
   "display_name": "Python 3",
   "language": "python",
   "name": "python3"
  },
  "language_info": {
   "codemirror_mode": {
    "name": "ipython",
    "version": 3
   },
   "file_extension": ".py",
   "mimetype": "text/x-python",
   "name": "python",
   "nbconvert_exporter": "python",
   "pygments_lexer": "ipython3",
   "version": "3.7.1"
  }
 },
 "nbformat": 4,
 "nbformat_minor": 2
}
