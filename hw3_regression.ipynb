{
 "cells": [
  {
   "cell_type": "markdown",
   "metadata": {},
   "source": [
    "### Jared Balakrishnan\n",
    "### CS383: Machine Learning\n",
    "### Dr.Matt Burlick\n",
    "### February 12, 2019\n"
   ]
  },
  {
   "cell_type": "code",
   "execution_count": 108,
   "metadata": {},
   "outputs": [],
   "source": [
    "import numpy as np\n",
    "import pandas as pd\n",
    "import cv2\n",
    "import random\n",
    "import math"
   ]
  },
  {
   "cell_type": "code",
   "execution_count": 109,
   "metadata": {},
   "outputs": [],
   "source": [
    "# reading in the input csv file into a numpy array\n",
    "dataSet = np.genfromtxt('x06Simple.csv', delimiter = ',')"
   ]
  },
  {
   "cell_type": "code",
   "execution_count": 110,
   "metadata": {},
   "outputs": [],
   "source": [
    "# ignoring the first column (indices) and the first row (column names)\n",
    "requiredData = dataSet[1:, 1:]"
   ]
  },
  {
   "cell_type": "code",
   "execution_count": 111,
   "metadata": {},
   "outputs": [
    {
     "name": "stdout",
     "output_type": "stream",
     "text": [
      "(44, 3)\n"
     ]
    }
   ],
   "source": [
    "print(requiredData.shape)"
   ]
  },
  {
   "cell_type": "code",
   "execution_count": 112,
   "metadata": {},
   "outputs": [
    {
     "name": "stdout",
     "output_type": "stream",
     "text": [
      "[[  14.   25.  620.]\n",
      " [  28.   25. 1315.]\n",
      " [  41.   25. 2120.]\n",
      " [  55.   25. 2600.]\n",
      " [  69.   25. 3110.]\n",
      " [  83.   25. 3535.]\n",
      " [  97.   25. 3935.]\n",
      " [ 111.   25. 4465.]\n",
      " [ 125.   25. 4530.]\n",
      " [ 139.   25. 4570.]\n",
      " [ 153.   25. 4600.]\n",
      " [  14.   27.  625.]\n",
      " [  28.   27. 1215.]\n",
      " [  41.   27. 2110.]\n",
      " [  55.   27. 2805.]\n",
      " [  69.   27. 3255.]\n",
      " [  83.   27. 4015.]\n",
      " [  97.   27. 4315.]\n",
      " [ 111.   27. 4495.]\n",
      " [ 125.   27. 4535.]\n",
      " [ 139.   27. 4600.]\n",
      " [ 153.   27. 4600.]\n",
      " [  14.   29.  590.]\n",
      " [  28.   29. 1305.]\n",
      " [  41.   29. 2140.]\n",
      " [  55.   29. 2890.]\n",
      " [  69.   29. 3920.]\n",
      " [  83.   29. 3920.]\n",
      " [  97.   29. 4515.]\n",
      " [ 111.   29. 4520.]\n",
      " [ 125.   29. 4525.]\n",
      " [ 139.   29. 4565.]\n",
      " [ 153.   29. 4566.]\n",
      " [  14.   31.  590.]\n",
      " [  28.   31. 1205.]\n",
      " [  41.   31. 1915.]\n",
      " [  55.   31. 2140.]\n",
      " [  69.   31. 2710.]\n",
      " [  83.   31. 3020.]\n",
      " [  97.   31. 3030.]\n",
      " [ 111.   31. 3040.]\n",
      " [ 125.   31. 3180.]\n",
      " [ 139.   31. 3257.]\n",
      " [ 153.   31. 3214.]]\n"
     ]
    }
   ],
   "source": [
    "print(requiredData)"
   ]
  },
  {
   "cell_type": "code",
   "execution_count": null,
   "metadata": {},
   "outputs": [],
   "source": []
  },
  {
   "cell_type": "code",
   "execution_count": 113,
   "metadata": {},
   "outputs": [],
   "source": [
    "np.random.shuffle(requiredData)"
   ]
  },
  {
   "cell_type": "code",
   "execution_count": 114,
   "metadata": {},
   "outputs": [
    {
     "name": "stdout",
     "output_type": "stream",
     "text": [
      "(44, 3)\n"
     ]
    }
   ],
   "source": [
    "print(requiredData.shape)"
   ]
  },
  {
   "cell_type": "code",
   "execution_count": 115,
   "metadata": {},
   "outputs": [],
   "source": [
    "dataLength = len(requiredData)"
   ]
  },
  {
   "cell_type": "code",
   "execution_count": 116,
   "metadata": {},
   "outputs": [
    {
     "name": "stdout",
     "output_type": "stream",
     "text": [
      "44\n"
     ]
    }
   ],
   "source": [
    "print(dataLength)"
   ]
  },
  {
   "cell_type": "code",
   "execution_count": 117,
   "metadata": {},
   "outputs": [],
   "source": [
    "twoThirds = int(len(requiredData) * 2/3)"
   ]
  },
  {
   "cell_type": "code",
   "execution_count": 118,
   "metadata": {},
   "outputs": [
    {
     "name": "stdout",
     "output_type": "stream",
     "text": [
      "29\n"
     ]
    }
   ],
   "source": [
    "print(twoThirds)"
   ]
  },
  {
   "cell_type": "code",
   "execution_count": 119,
   "metadata": {},
   "outputs": [],
   "source": [
    "trainingSet = requiredData[:twoThirds, :]"
   ]
  },
  {
   "cell_type": "code",
   "execution_count": 120,
   "metadata": {},
   "outputs": [
    {
     "name": "stdout",
     "output_type": "stream",
     "text": [
      "(29, 3)\n"
     ]
    }
   ],
   "source": [
    "print(trainingSet.shape)"
   ]
  },
  {
   "cell_type": "code",
   "execution_count": 121,
   "metadata": {},
   "outputs": [
    {
     "name": "stdout",
     "output_type": "stream",
     "text": [
      "29\n"
     ]
    }
   ],
   "source": [
    "print(len(trainingSet))"
   ]
  },
  {
   "cell_type": "code",
   "execution_count": 122,
   "metadata": {},
   "outputs": [
    {
     "name": "stdout",
     "output_type": "stream",
     "text": [
      "(29, 3)\n"
     ]
    }
   ],
   "source": [
    "print(trainingSet.shape)"
   ]
  },
  {
   "cell_type": "code",
   "execution_count": 123,
   "metadata": {},
   "outputs": [],
   "source": [
    "testingSet = requiredData[(twoThirds):, :]"
   ]
  },
  {
   "cell_type": "code",
   "execution_count": 124,
   "metadata": {},
   "outputs": [
    {
     "name": "stdout",
     "output_type": "stream",
     "text": [
      "(15, 3)\n"
     ]
    }
   ],
   "source": [
    "print(testingSet.shape)"
   ]
  },
  {
   "cell_type": "markdown",
   "metadata": {},
   "source": [
    "# Training Data Set Standardization\n",
    "     All columns except for the last column of the training matrix are standardized"
   ]
  },
  {
   "cell_type": "code",
   "execution_count": 125,
   "metadata": {},
   "outputs": [],
   "source": [
    "average_trainingSet = np.mean(trainingSet[:,:-1], axis = 0)"
   ]
  },
  {
   "cell_type": "code",
   "execution_count": 126,
   "metadata": {},
   "outputs": [],
   "source": [
    "sd_trainingSet = np.std(trainingSet[:,:-1], axis = 0)"
   ]
  },
  {
   "cell_type": "code",
   "execution_count": 127,
   "metadata": {},
   "outputs": [
    {
     "name": "stdout",
     "output_type": "stream",
     "text": [
      "[77.44827586 27.82758621]\n"
     ]
    }
   ],
   "source": [
    "print(average_trainingSet)"
   ]
  },
  {
   "cell_type": "code",
   "execution_count": 128,
   "metadata": {},
   "outputs": [
    {
     "name": "stdout",
     "output_type": "stream",
     "text": [
      "[42.95834888  2.13459138]\n"
     ]
    }
   ],
   "source": [
    "print(sd_trainingSet)"
   ]
  },
  {
   "cell_type": "code",
   "execution_count": 129,
   "metadata": {},
   "outputs": [],
   "source": [
    "standardized_trainingSet = (trainingSet[:,:-1] - average_trainingSet) / sd_trainingSet"
   ]
  },
  {
   "cell_type": "code",
   "execution_count": 130,
   "metadata": {},
   "outputs": [
    {
     "name": "stdout",
     "output_type": "stream",
     "text": [
      "(29, 2)\n"
     ]
    }
   ],
   "source": [
    "print(standardized_trainingSet.shape)"
   ]
  },
  {
   "cell_type": "code",
   "execution_count": 131,
   "metadata": {},
   "outputs": [],
   "source": [
    "average_testingSet = np.mean(testingSet[:,:-1], axis = 0)"
   ]
  },
  {
   "cell_type": "code",
   "execution_count": 132,
   "metadata": {},
   "outputs": [],
   "source": [
    "sd_testingSet = np.std(testingSet[:,:-1], axis = 0)"
   ]
  },
  {
   "cell_type": "code",
   "execution_count": 133,
   "metadata": {},
   "outputs": [
    {
     "name": "stdout",
     "output_type": "stream",
     "text": [
      "[94.26666667 28.33333333]\n"
     ]
    }
   ],
   "source": [
    "print(average_testingSet)"
   ]
  },
  {
   "cell_type": "code",
   "execution_count": 134,
   "metadata": {},
   "outputs": [
    {
     "name": "stdout",
     "output_type": "stream",
     "text": [
      "[43.91274176  2.38513918]\n"
     ]
    }
   ],
   "source": [
    "print(sd_testingSet)"
   ]
  },
  {
   "cell_type": "code",
   "execution_count": 135,
   "metadata": {},
   "outputs": [],
   "source": [
    "standardized_testingSet = (testingSet[:,:-1] - average_testingSet) / sd_testingSet"
   ]
  },
  {
   "cell_type": "code",
   "execution_count": 136,
   "metadata": {},
   "outputs": [
    {
     "name": "stdout",
     "output_type": "stream",
     "text": [
      "(15, 2)\n"
     ]
    }
   ],
   "source": [
    "print(standardized_testingSet.shape)"
   ]
  },
  {
   "cell_type": "code",
   "execution_count": 137,
   "metadata": {},
   "outputs": [],
   "source": [
    "y_trainingSet = trainingSet[:,-1]"
   ]
  },
  {
   "cell_type": "code",
   "execution_count": 138,
   "metadata": {},
   "outputs": [
    {
     "name": "stdout",
     "output_type": "stream",
     "text": [
      "(29,)\n"
     ]
    }
   ],
   "source": [
    "print(y_trainingSet.shape)"
   ]
  },
  {
   "cell_type": "code",
   "execution_count": 139,
   "metadata": {},
   "outputs": [],
   "source": [
    "# now to add a column of ones to the training dataset"
   ]
  },
  {
   "cell_type": "code",
   "execution_count": 140,
   "metadata": {},
   "outputs": [],
   "source": [
    "ones_column = np.ones((len(standardized_trainingSet),1), dtype=int)"
   ]
  },
  {
   "cell_type": "code",
   "execution_count": 141,
   "metadata": {},
   "outputs": [
    {
     "name": "stdout",
     "output_type": "stream",
     "text": [
      "(29, 1)\n"
     ]
    }
   ],
   "source": [
    "print(ones_column.shape)\n"
   ]
  },
  {
   "cell_type": "code",
   "execution_count": 142,
   "metadata": {},
   "outputs": [],
   "source": [
    "updated_trainingSet = np.hstack((ones_column, standardized_trainingSet))"
   ]
  },
  {
   "cell_type": "code",
   "execution_count": 143,
   "metadata": {},
   "outputs": [
    {
     "name": "stdout",
     "output_type": "stream",
     "text": [
      "(29, 3)\n"
     ]
    }
   ],
   "source": [
    "print(updated_trainingSet.shape)"
   ]
  },
  {
   "cell_type": "code",
   "execution_count": 144,
   "metadata": {},
   "outputs": [
    {
     "name": "stdout",
     "output_type": "stream",
     "text": [
      "(3, 29)\n"
     ]
    }
   ],
   "source": [
    "print(np.transpose(updated_trainingSet).shape)"
   ]
  },
  {
   "cell_type": "markdown",
   "metadata": {},
   "source": [
    "# Computing Weights"
   ]
  },
  {
   "cell_type": "code",
   "execution_count": 145,
   "metadata": {},
   "outputs": [],
   "source": [
    "# now the task is to apply the rule of closed form linear regression using LSE\n",
    "# the formula is theta = (X' * X) ^(-1) * X' * Y\n",
    "\n"
   ]
  },
  {
   "cell_type": "code",
   "execution_count": 146,
   "metadata": {},
   "outputs": [],
   "source": [
    "xTx = np.matmul(updated_trainingSet.T, updated_trainingSet)"
   ]
  },
  {
   "cell_type": "code",
   "execution_count": 147,
   "metadata": {},
   "outputs": [],
   "source": [
    "inverse = np.linalg.inv(xTx)"
   ]
  },
  {
   "cell_type": "code",
   "execution_count": 148,
   "metadata": {},
   "outputs": [
    {
     "name": "stdout",
     "output_type": "stream",
     "text": [
      "[[ 3.44827586e-02  2.65922284e-18 -1.61538798e-18]\n",
      " [ 2.65922284e-18  3.44875186e-02 -4.05164901e-04]\n",
      " [-1.61538798e-18 -4.05164901e-04  3.44875186e-02]]\n"
     ]
    }
   ],
   "source": [
    "print(inverse)"
   ]
  },
  {
   "cell_type": "code",
   "execution_count": 149,
   "metadata": {},
   "outputs": [
    {
     "name": "stdout",
     "output_type": "stream",
     "text": [
      "(29,)\n"
     ]
    }
   ],
   "source": [
    "print(y_trainingSet.shape)"
   ]
  },
  {
   "cell_type": "code",
   "execution_count": 150,
   "metadata": {},
   "outputs": [],
   "source": [
    "xTxXt = np.matmul(inverse, updated_trainingSet.T)"
   ]
  },
  {
   "cell_type": "code",
   "execution_count": 151,
   "metadata": {},
   "outputs": [
    {
     "data": {
      "text/plain": [
       "array([2973.44827586, 1189.56395194, -349.09155245])"
      ]
     },
     "execution_count": 151,
     "metadata": {},
     "output_type": "execute_result"
    }
   ],
   "source": [
    "np.matmul(xTxXt, y_trainingSet)"
   ]
  },
  {
   "cell_type": "code",
   "execution_count": 152,
   "metadata": {},
   "outputs": [],
   "source": [
    "reqd_wts = np.dot(np.linalg.inv(np.dot(updated_trainingSet.T, updated_trainingSet)), updated_trainingSet.T)"
   ]
  },
  {
   "cell_type": "code",
   "execution_count": 153,
   "metadata": {},
   "outputs": [
    {
     "name": "stdout",
     "output_type": "stream",
     "text": [
      "(3, 29)\n"
     ]
    }
   ],
   "source": [
    "print(reqd_wts.shape)"
   ]
  },
  {
   "cell_type": "code",
   "execution_count": 154,
   "metadata": {},
   "outputs": [],
   "source": [
    "weights = np.dot(reqd_wts, y_trainingSet)"
   ]
  },
  {
   "cell_type": "code",
   "execution_count": 155,
   "metadata": {},
   "outputs": [
    {
     "name": "stdout",
     "output_type": "stream",
     "text": [
      "[2973.44827586 1189.56395194 -349.09155245]\n"
     ]
    }
   ],
   "source": [
    "print(weights)"
   ]
  },
  {
   "cell_type": "code",
   "execution_count": 156,
   "metadata": {},
   "outputs": [
    {
     "name": "stdout",
     "output_type": "stream",
     "text": [
      "[[ 1.33750094 -1.39754249]\n",
      " [ 1.01868687  1.11803399]\n",
      " [ 0.06224465  1.11803399]\n",
      " [-1.21301163  1.11803399]\n",
      " [ 0.6998728   0.2795085 ]\n",
      " [ 1.01868687  0.2795085 ]\n",
      " [ 1.01868687 -1.39754249]\n",
      " [-0.57538349 -1.39754249]\n",
      " [-0.89419756  1.11803399]\n",
      " [ 0.06224465  0.2795085 ]\n",
      " [-1.21301163 -0.55901699]\n",
      " [-1.82786734 -1.39754249]\n",
      " [ 1.33750094 -0.55901699]\n",
      " [-0.57538349  0.2795085 ]\n",
      " [-0.25656942  1.11803399]]\n"
     ]
    }
   ],
   "source": [
    "print(standardized_testingSet)"
   ]
  },
  {
   "cell_type": "code",
   "execution_count": 157,
   "metadata": {},
   "outputs": [],
   "source": [
    "updated_testingSet = np.hstack ( (np.ones((len(standardized_testingSet), 1)), standardized_testingSet))"
   ]
  },
  {
   "cell_type": "code",
   "execution_count": 158,
   "metadata": {},
   "outputs": [
    {
     "name": "stdout",
     "output_type": "stream",
     "text": [
      "(15, 3)\n"
     ]
    }
   ],
   "source": [
    "print(updated_testingSet.shape)"
   ]
  },
  {
   "cell_type": "code",
   "execution_count": 159,
   "metadata": {},
   "outputs": [],
   "source": [
    "prediction = np.dot(updated_testingSet, weights)"
   ]
  },
  {
   "cell_type": "code",
   "execution_count": 160,
   "metadata": {},
   "outputs": [
    {
     "name": "stdout",
     "output_type": "stream",
     "text": [
      "[5052.36145448 3794.94523055 2657.19604936 1140.19714111 3708.41766911\n",
      " 4087.66739618 4673.11172742 2776.8630921  1519.44686818 2949.91821499\n",
      " 1725.64147236 1286.95345007 4759.63928886 2191.41876086 2277.9463223 ]\n"
     ]
    }
   ],
   "source": [
    "print(prediction)"
   ]
  },
  {
   "cell_type": "code",
   "execution_count": null,
   "metadata": {},
   "outputs": [],
   "source": []
  }
 ],
 "metadata": {
  "kernelspec": {
   "display_name": "Python 3",
   "language": "python",
   "name": "python3"
  },
  "language_info": {
   "codemirror_mode": {
    "name": "ipython",
    "version": 3
   },
   "file_extension": ".py",
   "mimetype": "text/x-python",
   "name": "python",
   "nbconvert_exporter": "python",
   "pygments_lexer": "ipython3",
   "version": "3.7.1"
  }
 },
 "nbformat": 4,
 "nbformat_minor": 2
}
