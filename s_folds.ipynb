{
 "cells": [
  {
   "cell_type": "code",
   "execution_count": 35,
   "metadata": {},
   "outputs": [],
   "source": [
    "import numpy as np\n",
    "import pandas as pd\n",
    "import random\n",
    "import math"
   ]
  },
  {
   "cell_type": "code",
   "execution_count": 36,
   "metadata": {},
   "outputs": [],
   "source": [
    "dataSet = np.genfromtxt('x06simple.csv', delimiter=',')"
   ]
  },
  {
   "cell_type": "code",
   "execution_count": 37,
   "metadata": {},
   "outputs": [],
   "source": [
    "dataSet = dataSet[1:,1:]"
   ]
  },
  {
   "cell_type": "code",
   "execution_count": 38,
   "metadata": {},
   "outputs": [],
   "source": [
    "# set up the number of s-folds\n",
    "s_folds = 20"
   ]
  },
  {
   "cell_type": "code",
   "execution_count": 39,
   "metadata": {},
   "outputs": [],
   "source": [
    "# seeding the random number generator\n",
    "random.seed(0)"
   ]
  },
  {
   "cell_type": "code",
   "execution_count": 40,
   "metadata": {},
   "outputs": [],
   "source": [
    "np.random.shuffle(dataSet)"
   ]
  },
  {
   "cell_type": "code",
   "execution_count": 41,
   "metadata": {},
   "outputs": [],
   "source": [
    "# computing the length of each fold\n",
    "fold_length = math.ceil(len(dataSet) / s_folds)"
   ]
  },
  {
   "cell_type": "code",
   "execution_count": 42,
   "metadata": {},
   "outputs": [
    {
     "name": "stdout",
     "output_type": "stream",
     "text": [
      "3\n"
     ]
    }
   ],
   "source": [
    "print(fold_length)"
   ]
  },
  {
   "cell_type": "code",
   "execution_count": 43,
   "metadata": {},
   "outputs": [],
   "source": [
    "# initializing empty list to store the error values\n",
    "errors_squared = []"
   ]
  },
  {
   "cell_type": "code",
   "execution_count": 61,
   "metadata": {},
   "outputs": [
    {
     "name": "stdout",
     "output_type": "stream",
     "text": [
      "[[252.68276093]\n",
      " [  5.65115489]\n",
      " [  1.59573397]]\n",
      "[[458.62118385]\n",
      " [660.01363312]\n",
      " [131.64386771]]\n",
      "[[-601.03844356]\n",
      " [-299.23985377]\n",
      " [ 138.31790413]]\n",
      "[[-771.10314594]\n",
      " [-638.7815012 ]\n",
      " [ 404.67477711]]\n",
      "[[-277.51903434]\n",
      " [-151.81836336]\n",
      " [ 222.63465364]]\n",
      "[[  -44.30772326]\n",
      " [-1102.58104507]\n",
      " [  247.10026134]]\n",
      "[[  831.19935457]\n",
      " [-1553.69977947]\n",
      " [  907.3452322 ]]\n",
      "[[-493.44085503]\n",
      " [-827.65984213]\n",
      " [ 189.2114239 ]]\n",
      "[[1361.63410026]\n",
      " [1220.44107115]\n",
      " [ -35.47162523]]\n",
      "[[ 341.24786663]\n",
      " [-360.45664381]\n",
      " [ 330.35536662]]\n",
      "[[ 224.00776288]\n",
      " [-786.09468246]\n",
      " [-552.9113001 ]]\n",
      "[[-206.79403839]\n",
      " [ 132.38077478]\n",
      " [ 572.12965973]]\n",
      "[[-1104.74543559]\n",
      " [   96.48998176]\n",
      " [  732.83787668]]\n",
      "[[ 819.42772571]\n",
      " [-444.9906127 ]\n",
      " [-758.1397375 ]]\n",
      "[[59.38715993]]\n",
      "[]\n",
      "[]\n",
      "[]\n",
      "[]\n",
      "[]\n"
     ]
    }
   ],
   "source": [
    "for i in range(1, s_folds+1):\n",
    "    \n",
    "    header = fold_length * (i - 1) + 1\n",
    "    \n",
    "    tail = min(header + fold_length - 1, len(dataSet))\n",
    "    # generating the testing data\n",
    "    testData = dataSet[header: tail+1, :]\n",
    "    # generating the training data\n",
    "    trainingDataUpper = dataSet[:header, :]\n",
    "    trainingDataLower = dataSet[tail+1: , :]\n",
    "    trainingData = np.vstack((trainingDataUpper, trainingDataLower))\n",
    "    \n",
    "    xTraining = trainingData[:,:-1]\n",
    "    yTraining = trainingData[:,-1]\n",
    "    yTraining = np.reshape(yTraining,(len(yTraining), 1))\n",
    "    \n",
    "    xTesting = testData[:,:-1]\n",
    "    yTesting = testData[:,-1]\n",
    "    yTesting = np.reshape(yTesting,(len(yTesting), 1))\n",
    "    \n",
    "    # standardizing the matrices\n",
    "    xMean = np.mean(xTraining, axis=0)\n",
    "    xStd = np.std(xTraining, axis=0)\n",
    "    \n",
    "    xTraining = (xTraining-xMean) / xStd\n",
    "    xTesting = (xTesting-xMean) / xStd\n",
    "    \n",
    "    # padding 1s to the training matrix\n",
    "    trainOnes = np.ones((len(xTraining)))\n",
    "    xTraining = np.column_stack((trainOnes, xTraining))\n",
    "    # padding 1s to the testing matrix\n",
    "    testOnes = np.ones(len(xTesting))\n",
    "    xTesting = np.column_stack((testOnes, xTesting))\n",
    "    \n",
    "    # applying the rule\n",
    "    xTx = np.dot(np.transpose(xTraining), xTraining)\n",
    "    xTx_inv = np.linalg.inv(xTx)\n",
    "    xTx_inv_xt = np.dot(xTx_inv, np.transpose(xTraining))\n",
    "    weights = np.dot(xTx_inv_xt, yTraining)    \n",
    "    \n",
    "    predicted_outputs = np.matmul(xTesting,weights)\n",
    "    \n",
    "    \n",
    "    output = np.square(yTesting-predicted_outputs)\n",
    "    \n",
    "    output = np.sqrt()\n",
    "    \n",
    "    \n",
    "    \n",
    "    \n",
    "    \n"
   ]
  },
  {
   "cell_type": "code",
   "execution_count": null,
   "metadata": {},
   "outputs": [],
   "source": []
  },
  {
   "cell_type": "code",
   "execution_count": null,
   "metadata": {},
   "outputs": [],
   "source": []
  },
  {
   "cell_type": "code",
   "execution_count": null,
   "metadata": {},
   "outputs": [],
   "source": []
  },
  {
   "cell_type": "code",
   "execution_count": null,
   "metadata": {},
   "outputs": [],
   "source": []
  }
 ],
 "metadata": {
  "kernelspec": {
   "display_name": "Python 3",
   "language": "python",
   "name": "python3"
  },
  "language_info": {
   "codemirror_mode": {
    "name": "ipython",
    "version": 3
   },
   "file_extension": ".py",
   "mimetype": "text/x-python",
   "name": "python",
   "nbconvert_exporter": "python",
   "pygments_lexer": "ipython3",
   "version": "3.7.1"
  }
 },
 "nbformat": 4,
 "nbformat_minor": 2
}
