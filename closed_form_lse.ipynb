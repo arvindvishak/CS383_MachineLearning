{
 "cells": [
  {
   "cell_type": "code",
   "execution_count": 2,
   "metadata": {},
   "outputs": [],
   "source": [
    "import numpy as np\n",
    "import random\n",
    "import math\n",
    "import pandas as pd"
   ]
  },
  {
   "cell_type": "code",
   "execution_count": 3,
   "metadata": {},
   "outputs": [],
   "source": [
    "dataSet = np.genfromtxt('x06simple.csv', delimiter = ',')"
   ]
  },
  {
   "cell_type": "code",
   "execution_count": 5,
   "metadata": {},
   "outputs": [],
   "source": [
    "dataSet = dataSet[1:,1:]"
   ]
  },
  {
   "cell_type": "code",
   "execution_count": 14,
   "metadata": {},
   "outputs": [
    {
     "name": "stdout",
     "output_type": "stream",
     "text": [
      "(44, 3)\n"
     ]
    }
   ],
   "source": [
    "print(dataSet.shape)"
   ]
  },
  {
   "cell_type": "code",
   "execution_count": 8,
   "metadata": {},
   "outputs": [],
   "source": [
    "random.seed(0)"
   ]
  },
  {
   "cell_type": "code",
   "execution_count": 9,
   "metadata": {},
   "outputs": [],
   "source": [
    "np.random.shuffle(dataSet)"
   ]
  },
  {
   "cell_type": "code",
   "execution_count": 11,
   "metadata": {},
   "outputs": [],
   "source": [
    "# finding the number of samples to be used in the training set\n",
    "\n",
    "trainingSamples = int(len(dataSet) * 2/3)"
   ]
  },
  {
   "cell_type": "code",
   "execution_count": 12,
   "metadata": {},
   "outputs": [
    {
     "name": "stdout",
     "output_type": "stream",
     "text": [
      "29\n"
     ]
    }
   ],
   "source": [
    "print(trainingSamples)"
   ]
  },
  {
   "cell_type": "code",
   "execution_count": 30,
   "metadata": {},
   "outputs": [],
   "source": [
    "training_data_x = dataSet[:trainingSamples, :-1]"
   ]
  },
  {
   "cell_type": "code",
   "execution_count": 71,
   "metadata": {},
   "outputs": [],
   "source": [
    "training_data_y = dataSet[:trainingSamples,-1]\n",
    "\n",
    "training_data_y = np.reshape(training_data_y, (len(training_data_y), 1))"
   ]
  },
  {
   "cell_type": "code",
   "execution_count": 72,
   "metadata": {},
   "outputs": [],
   "source": [
    "testing_data_x = dataSet[trainingSamples:, :-1]"
   ]
  },
  {
   "cell_type": "code",
   "execution_count": 73,
   "metadata": {},
   "outputs": [],
   "source": [
    "testing_data_y = dataSet[trainingSamples:, -1]\n",
    "\n",
    "testing_data_y = np.reshape(testing_data_y, (len(testing_data_y), 1))"
   ]
  },
  {
   "cell_type": "code",
   "execution_count": 74,
   "metadata": {},
   "outputs": [],
   "source": [
    "# standardizing the training data\n",
    "\n",
    "average_training_x = np.mean(training_data_x, axis=0)\n",
    "std_training_x = np.std(training_data_x, axis=0)\n",
    "\n",
    "training_x = (training_data_x - average_training_x) / std_training_x"
   ]
  },
  {
   "cell_type": "code",
   "execution_count": 75,
   "metadata": {},
   "outputs": [],
   "source": [
    "# standardizing the testing data\n",
    "\n",
    "average_testing_x = np.mean(testing_data_x, axis=0)\n",
    "std_testing_x = np.std(testing_data_x, axis=0)\n",
    "\n",
    "testing_x = (testing_data_x - average_testing_x) / std_testing_x"
   ]
  },
  {
   "cell_type": "code",
   "execution_count": 76,
   "metadata": {},
   "outputs": [
    {
     "name": "stdout",
     "output_type": "stream",
     "text": [
      "(29, 2)\n"
     ]
    }
   ],
   "source": [
    "print(training_x.shape)"
   ]
  },
  {
   "cell_type": "code",
   "execution_count": 77,
   "metadata": {},
   "outputs": [
    {
     "name": "stdout",
     "output_type": "stream",
     "text": [
      "(15, 2)\n"
     ]
    }
   ],
   "source": [
    "print (testing_x.shape)"
   ]
  },
  {
   "cell_type": "code",
   "execution_count": 79,
   "metadata": {},
   "outputs": [],
   "source": [
    "training_ones = np.ones((len(training_x)))\n",
    "\n",
    "training_ones = np.reshape(training_ones, (len(training_ones), 1))"
   ]
  },
  {
   "cell_type": "code",
   "execution_count": 80,
   "metadata": {},
   "outputs": [],
   "source": [
    "x = np.column_stack((training_ones, training_x))"
   ]
  },
  {
   "cell_type": "code",
   "execution_count": 82,
   "metadata": {},
   "outputs": [],
   "source": [
    "testing_ones = np.ones((len(testing_x)))\n",
    "\n",
    "testing_ones = np.reshape(testing_ones, (len(testing_ones), 1))"
   ]
  },
  {
   "cell_type": "code",
   "execution_count": 83,
   "metadata": {},
   "outputs": [],
   "source": [
    "x_testing = np.column_stack((testing_ones, testing_x))"
   ]
  },
  {
   "cell_type": "code",
   "execution_count": 84,
   "metadata": {},
   "outputs": [
    {
     "name": "stdout",
     "output_type": "stream",
     "text": [
      "(15, 3)\n"
     ]
    }
   ],
   "source": [
    "print(x_testing.shape)"
   ]
  },
  {
   "cell_type": "code",
   "execution_count": 85,
   "metadata": {},
   "outputs": [],
   "source": [
    "# computing weights\n",
    "\n",
    "xtx = np.dot(np.transpose(x), x)"
   ]
  },
  {
   "cell_type": "code",
   "execution_count": 86,
   "metadata": {},
   "outputs": [],
   "source": [
    "xtx_inv = np.linalg.inv(xtx)"
   ]
  },
  {
   "cell_type": "code",
   "execution_count": 87,
   "metadata": {},
   "outputs": [
    {
     "name": "stdout",
     "output_type": "stream",
     "text": [
      "[[ 3.44827586e-02 -2.52501219e-18 -1.51851128e-17]\n",
      " [-2.52501219e-18  3.53358545e-02 -5.49043444e-03]\n",
      " [-1.51851128e-17 -5.49043444e-03  3.53358545e-02]]\n"
     ]
    }
   ],
   "source": [
    "print(xtx_inv)"
   ]
  },
  {
   "cell_type": "code",
   "execution_count": 88,
   "metadata": {},
   "outputs": [],
   "source": [
    "weights = np.dot ( np.dot(xtx_inv, np.transpose(x)), training_data_y)"
   ]
  },
  {
   "cell_type": "code",
   "execution_count": 89,
   "metadata": {},
   "outputs": [
    {
     "name": "stdout",
     "output_type": "stream",
     "text": [
      "[[3041.03448276]\n",
      " [1204.92155776]\n",
      " [-151.51005322]]\n"
     ]
    }
   ],
   "source": [
    "print(weights)"
   ]
  },
  {
   "cell_type": "code",
   "execution_count": 90,
   "metadata": {},
   "outputs": [
    {
     "name": "stdout",
     "output_type": "stream",
     "text": [
      "[[ 1.          1.30957712 -1.71679015]\n",
      " [ 1.          0.6053231  -0.79708114]\n",
      " [ 1.         -1.83441405  1.04233688]\n",
      " [ 1.          0.6053231   0.12262787]\n",
      " [ 1.          1.30957712 -0.79708114]\n",
      " [ 1.         -0.80318494  1.04233688]\n",
      " [ 1.          1.30957712  1.04233688]\n",
      " [ 1.         -1.48228704  0.12262787]\n",
      " [ 1.          0.25319609  1.04233688]\n",
      " [ 1.         -0.09893092 -0.79708114]\n",
      " [ 1.         -1.48228704  1.04233688]\n",
      " [ 1.         -0.45105793  0.12262787]\n",
      " [ 1.          0.25319609 -0.79708114]\n",
      " [ 1.          0.6053231   1.04233688]\n",
      " [ 1.         -0.09893092 -1.71679015]]\n"
     ]
    }
   ],
   "source": [
    "print(x_testing)"
   ]
  },
  {
   "cell_type": "code",
   "execution_count": 93,
   "metadata": {},
   "outputs": [],
   "source": [
    "predicted_outputs = np.matmul(x_testing, weights)\n"
   ]
  },
  {
   "cell_type": "code",
   "execution_count": 92,
   "metadata": {},
   "outputs": [
    {
     "name": "stdout",
     "output_type": "stream",
     "text": [
      "[[4570.]\n",
      " [4495.]\n",
      " [ 590.]\n",
      " [4520.]\n",
      " [4600.]\n",
      " [2140.]\n",
      " [3257.]\n",
      " [1305.]\n",
      " [3030.]\n",
      " [4015.]\n",
      " [1205.]\n",
      " [3920.]\n",
      " [4315.]\n",
      " [3040.]\n",
      " [3535.]]\n"
     ]
    }
   ],
   "source": [
    "print(testing_data_y)"
   ]
  },
  {
   "cell_type": "code",
   "execution_count": 94,
   "metadata": {},
   "outputs": [
    {
     "data": {
      "text/plain": [
       "array([[  309.08315633],\n",
       "       [ -603.83285829],\n",
       "       [   82.78493387],\n",
       "       [ -768.17801922],\n",
       "       [  139.73799539],\n",
       "       [ -224.66488753],\n",
       "       [ 1204.04767352],\n",
       "       [  -68.58447836],\n",
       "       [  158.191393  ],\n",
       "       [ -972.40371197],\n",
       "       [ -107.92963929],\n",
       "       [-1441.03429975],\n",
       "       [ -848.11828513],\n",
       "       [  572.47681984],\n",
       "       [ -353.05855104]])"
      ]
     },
     "execution_count": 94,
     "metadata": {},
     "output_type": "execute_result"
    }
   ],
   "source": [
    "predicted_outputs - testing_data_y"
   ]
  },
  {
   "cell_type": "code",
   "execution_count": 97,
   "metadata": {},
   "outputs": [],
   "source": [
    "out_2 = np.square(predicted_outputs - testing_data_y)"
   ]
  },
  {
   "cell_type": "code",
   "execution_count": 98,
   "metadata": {},
   "outputs": [
    {
     "data": {
      "text/plain": [
       "array([454135.98759004])"
      ]
     },
     "execution_count": 98,
     "metadata": {},
     "output_type": "execute_result"
    }
   ],
   "source": [
    "np.mean(out_2, axis =0)"
   ]
  },
  {
   "cell_type": "code",
   "execution_count": 99,
   "metadata": {},
   "outputs": [
    {
     "data": {
      "text/plain": [
       "array([673.89612522])"
      ]
     },
     "execution_count": 99,
     "metadata": {},
     "output_type": "execute_result"
    }
   ],
   "source": [
    "np.sqrt(np.mean(out_2, axis =0))"
   ]
  },
  {
   "cell_type": "code",
   "execution_count": null,
   "metadata": {},
   "outputs": [],
   "source": []
  }
 ],
 "metadata": {
  "kernelspec": {
   "display_name": "Python 3",
   "language": "python",
   "name": "python3"
  },
  "language_info": {
   "codemirror_mode": {
    "name": "ipython",
    "version": 3
   },
   "file_extension": ".py",
   "mimetype": "text/x-python",
   "name": "python",
   "nbconvert_exporter": "python",
   "pygments_lexer": "ipython3",
   "version": "3.7.1"
  }
 },
 "nbformat": 4,
 "nbformat_minor": 2
}
