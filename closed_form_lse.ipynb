{
 "cells": [
  {
   "cell_type": "code",
   "execution_count": 564,
   "metadata": {},
   "outputs": [],
   "source": [
    "import numpy as np\n",
    "import random\n",
    "import math\n",
    "import pandas as pd"
   ]
  },
  {
   "cell_type": "code",
   "execution_count": 565,
   "metadata": {},
   "outputs": [],
   "source": [
    "dataSet = np.genfromtxt('x06simple.csv', delimiter = ',')"
   ]
  },
  {
   "cell_type": "code",
   "execution_count": 566,
   "metadata": {},
   "outputs": [],
   "source": [
    "dataSet = dataSet[1:,1:]"
   ]
  },
  {
   "cell_type": "code",
   "execution_count": 567,
   "metadata": {},
   "outputs": [
    {
     "name": "stdout",
     "output_type": "stream",
     "text": [
      "(44, 3)\n"
     ]
    }
   ],
   "source": [
    "print(dataSet.shape)"
   ]
  },
  {
   "cell_type": "code",
   "execution_count": 568,
   "metadata": {},
   "outputs": [],
   "source": [
    "random.seed(0)"
   ]
  },
  {
   "cell_type": "code",
   "execution_count": 569,
   "metadata": {},
   "outputs": [],
   "source": [
    "np.random.shuffle(dataSet)"
   ]
  },
  {
   "cell_type": "code",
   "execution_count": 570,
   "metadata": {},
   "outputs": [],
   "source": [
    "# finding the number of samples to be used in the training set\n",
    "\n",
    "trainingSamples = int(len(dataSet) * 2/3)"
   ]
  },
  {
   "cell_type": "code",
   "execution_count": 571,
   "metadata": {},
   "outputs": [
    {
     "name": "stdout",
     "output_type": "stream",
     "text": [
      "29\n"
     ]
    }
   ],
   "source": [
    "print(trainingSamples)"
   ]
  },
  {
   "cell_type": "code",
   "execution_count": 572,
   "metadata": {},
   "outputs": [],
   "source": [
    "training_data_x = dataSet[:trainingSamples, :-1]"
   ]
  },
  {
   "cell_type": "code",
   "execution_count": 573,
   "metadata": {},
   "outputs": [],
   "source": [
    "training_data_y = dataSet[:trainingSamples,-1]\n",
    "\n",
    "training_data_y = np.reshape(training_data_y, (len(training_data_y), 1))"
   ]
  },
  {
   "cell_type": "code",
   "execution_count": 574,
   "metadata": {},
   "outputs": [],
   "source": [
    "testing_data_x = dataSet[trainingSamples:, :-1]"
   ]
  },
  {
   "cell_type": "code",
   "execution_count": 575,
   "metadata": {},
   "outputs": [],
   "source": [
    "testing_data_y = dataSet[trainingSamples:, -1]\n",
    "\n",
    "testing_data_y = np.reshape(testing_data_y, (len(testing_data_y), 1))"
   ]
  },
  {
   "cell_type": "code",
   "execution_count": 576,
   "metadata": {},
   "outputs": [],
   "source": [
    "# standardizing the training data\n",
    "\n",
    "average_training_x = np.mean(training_data_x, axis=0)\n",
    "std_training_x = np.std(training_data_x, axis=0)\n",
    "\n",
    "training_x = (training_data_x - average_training_x) / std_training_x"
   ]
  },
  {
   "cell_type": "code",
   "execution_count": 577,
   "metadata": {},
   "outputs": [],
   "source": [
    "# standardizing the testing data\n",
    "\n",
    "average_testing_x = np.mean(testing_data_x, axis=0)\n",
    "std_testing_x = np.std(testing_data_x, axis=0)\n",
    "\n",
    "testing_x = (testing_data_x - average_training_x) / std_training_x"
   ]
  },
  {
   "cell_type": "code",
   "execution_count": 578,
   "metadata": {},
   "outputs": [
    {
     "name": "stdout",
     "output_type": "stream",
     "text": [
      "(29, 2)\n"
     ]
    }
   ],
   "source": [
    "print(training_x.shape)"
   ]
  },
  {
   "cell_type": "code",
   "execution_count": 579,
   "metadata": {},
   "outputs": [
    {
     "name": "stdout",
     "output_type": "stream",
     "text": [
      "(15, 2)\n"
     ]
    }
   ],
   "source": [
    "print (testing_x.shape)"
   ]
  },
  {
   "cell_type": "code",
   "execution_count": 580,
   "metadata": {},
   "outputs": [],
   "source": [
    "training_ones = np.ones((len(training_x)))\n",
    "\n",
    "training_ones = np.reshape(training_ones, (len(training_ones), 1))"
   ]
  },
  {
   "cell_type": "code",
   "execution_count": 581,
   "metadata": {},
   "outputs": [],
   "source": [
    "x = np.column_stack((training_ones, training_x))"
   ]
  },
  {
   "cell_type": "code",
   "execution_count": 582,
   "metadata": {},
   "outputs": [],
   "source": [
    "testing_ones = np.ones((len(testing_x)))\n",
    "\n",
    "testing_ones = np.reshape(testing_ones, (len(testing_ones), 1))"
   ]
  },
  {
   "cell_type": "code",
   "execution_count": 583,
   "metadata": {},
   "outputs": [],
   "source": [
    "x_testing = np.column_stack((testing_ones, testing_x))"
   ]
  },
  {
   "cell_type": "code",
   "execution_count": 584,
   "metadata": {},
   "outputs": [
    {
     "name": "stdout",
     "output_type": "stream",
     "text": [
      "(15, 3)\n"
     ]
    }
   ],
   "source": [
    "print(x_testing.shape)"
   ]
  },
  {
   "cell_type": "code",
   "execution_count": 585,
   "metadata": {},
   "outputs": [],
   "source": [
    "# computing weights\n",
    "\n",
    "xtx = np.dot(np.transpose(x), x)"
   ]
  },
  {
   "cell_type": "code",
   "execution_count": 586,
   "metadata": {},
   "outputs": [],
   "source": [
    "xtx_inv = np.linalg.inv(xtx)"
   ]
  },
  {
   "cell_type": "code",
   "execution_count": 587,
   "metadata": {},
   "outputs": [
    {
     "name": "stdout",
     "output_type": "stream",
     "text": [
      "[[ 3.44827586e-02  4.63858513e-19 -6.78808295e-18]\n",
      " [ 4.63858513e-19  3.54482771e-02  5.85029635e-03]\n",
      " [-6.78808295e-18  5.85029635e-03  3.54482771e-02]]\n"
     ]
    }
   ],
   "source": [
    "print(xtx_inv)"
   ]
  },
  {
   "cell_type": "code",
   "execution_count": 588,
   "metadata": {},
   "outputs": [],
   "source": [
    "weights = np.dot ( np.dot(xtx_inv, np.transpose(x)), training_data_y)"
   ]
  },
  {
   "cell_type": "code",
   "execution_count": 589,
   "metadata": {},
   "outputs": [
    {
     "name": "stdout",
     "output_type": "stream",
     "text": [
      "[[3235.10344828]\n",
      " [1146.23744387]\n",
      " [-322.50939164]]\n"
     ]
    }
   ],
   "source": [
    "print(weights)"
   ]
  },
  {
   "cell_type": "code",
   "execution_count": 590,
   "metadata": {},
   "outputs": [
    {
     "name": "stdout",
     "output_type": "stream",
     "text": [
      "[[ 1.         -1.10275645 -1.51637766]\n",
      " [ 1.         -1.71731751 -1.51637766]\n",
      " [ 1.         -1.10275645 -0.60023282]\n",
      " [ 1.          1.12787261 -1.51637766]\n",
      " [ 1.         -1.39865622 -1.51637766]\n",
      " [ 1.         -0.78409515 -0.60023282]\n",
      " [ 1.          0.80921131 -1.51637766]\n",
      " [ 1.         -0.46543386 -1.51637766]\n",
      " [ 1.         -0.46543386  1.23205685]\n",
      " [ 1.         -1.10275645  0.31591201]\n",
      " [ 1.          0.49055002  0.31591201]\n",
      " [ 1.          1.4465339   1.23205685]\n",
      " [ 1.         -1.39865622  0.31591201]\n",
      " [ 1.         -0.14677257  0.31591201]\n",
      " [ 1.         -0.46543386  0.31591201]]\n"
     ]
    }
   ],
   "source": [
    "print(x_testing)"
   ]
  },
  {
   "cell_type": "code",
   "execution_count": 591,
   "metadata": {},
   "outputs": [],
   "source": [
    "predicted_outputs = np.matmul(x_testing, weights)\n"
   ]
  },
  {
   "cell_type": "code",
   "execution_count": 592,
   "metadata": {},
   "outputs": [
    {
     "name": "stdout",
     "output_type": "stream",
     "text": [
      "[[2120.]\n",
      " [ 620.]\n",
      " [2110.]\n",
      " [4570.]\n",
      " [1315.]\n",
      " [2805.]\n",
      " [4530.]\n",
      " [3110.]\n",
      " [2710.]\n",
      " [2140.]\n",
      " [4520.]\n",
      " [3214.]\n",
      " [1305.]\n",
      " [3920.]\n",
      " [3920.]]\n"
     ]
    }
   ],
   "source": [
    "print(testing_data_y)"
   ]
  },
  {
   "cell_type": "code",
   "execution_count": 593,
   "metadata": {},
   "outputs": [
    {
     "data": {
      "text/plain": [
       "array([[  340.12875323],\n",
       "       [ 1135.69584785],\n",
       "       [   54.66344008],\n",
       "       [  446.95929868],\n",
       "       [  805.95735434],\n",
       "       [ -275.07505342],\n",
       "       [  121.69779218],\n",
       "       [   80.65176621],\n",
       "       [ -405.74417322],\n",
       "       [ -270.80187306],\n",
       "       [ -824.4943406 ],\n",
       "       [ 1281.82486574],\n",
       "       [  225.02672805],\n",
       "       [ -955.01735358],\n",
       "       [-1320.27886008]])"
      ]
     },
     "execution_count": 593,
     "metadata": {},
     "output_type": "execute_result"
    }
   ],
   "source": [
    "predicted_outputs - testing_data_y"
   ]
  },
  {
   "cell_type": "code",
   "execution_count": 594,
   "metadata": {},
   "outputs": [],
   "source": [
    "out_2 = np.square(testing_data_y - predicted_outputs)"
   ]
  },
  {
   "cell_type": "code",
   "execution_count": 595,
   "metadata": {},
   "outputs": [
    {
     "data": {
      "text/plain": [
       "array([508097.41806608])"
      ]
     },
     "execution_count": 595,
     "metadata": {},
     "output_type": "execute_result"
    }
   ],
   "source": [
    "np.mean(out_2, axis =0)"
   ]
  },
  {
   "cell_type": "code",
   "execution_count": 596,
   "metadata": {},
   "outputs": [
    {
     "data": {
      "text/plain": [
       "array([712.80952439])"
      ]
     },
     "execution_count": 596,
     "metadata": {},
     "output_type": "execute_result"
    }
   ],
   "source": [
    "np.sqrt(np.mean(out_2, axis =0))"
   ]
  },
  {
   "cell_type": "code",
   "execution_count": null,
   "metadata": {},
   "outputs": [],
   "source": []
  }
 ],
 "metadata": {
  "kernelspec": {
   "display_name": "Python 3",
   "language": "python",
   "name": "python3"
  },
  "language_info": {
   "codemirror_mode": {
    "name": "ipython",
    "version": 3
   },
   "file_extension": ".py",
   "mimetype": "text/x-python",
   "name": "python",
   "nbconvert_exporter": "python",
   "pygments_lexer": "ipython3",
   "version": "3.7.1"
  }
 },
 "nbformat": 4,
 "nbformat_minor": 2
}
