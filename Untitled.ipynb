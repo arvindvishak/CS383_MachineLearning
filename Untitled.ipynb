{
 "cells": [
  {
   "cell_type": "code",
   "execution_count": 2,
   "metadata": {},
   "outputs": [],
   "source": [
    "import numpy as np\n",
    "import pandas as pd\n",
    "import cv2\n",
    "import random\n",
    "import math"
   ]
  },
  {
   "cell_type": "code",
   "execution_count": 4,
   "metadata": {},
   "outputs": [],
   "source": [
    "dataSet = np.genfromtxt('x06simple.csv', delimiter=',')"
   ]
  },
  {
   "cell_type": "code",
   "execution_count": 6,
   "metadata": {},
   "outputs": [
    {
     "name": "stdout",
     "output_type": "stream",
     "text": [
      "(45, 4)\n"
     ]
    }
   ],
   "source": [
    "print(dataSet.shape)"
   ]
  },
  {
   "cell_type": "code",
   "execution_count": 7,
   "metadata": {},
   "outputs": [],
   "source": [
    "requiredData = dataSet[:, :-1]\n"
   ]
  },
  {
   "cell_type": "code",
   "execution_count": 8,
   "metadata": {},
   "outputs": [
    {
     "name": "stdout",
     "output_type": "stream",
     "text": [
      "[[ nan  nan  nan]\n",
      " [  1.  14.  25.]\n",
      " [  2.  28.  25.]\n",
      " [  3.  41.  25.]\n",
      " [  4.  55.  25.]\n",
      " [  5.  69.  25.]\n",
      " [  6.  83.  25.]\n",
      " [  7.  97.  25.]\n",
      " [  8. 111.  25.]\n",
      " [  9. 125.  25.]\n",
      " [ 10. 139.  25.]\n",
      " [ 11. 153.  25.]\n",
      " [ 12.  14.  27.]\n",
      " [ 13.  28.  27.]\n",
      " [ 14.  41.  27.]\n",
      " [ 15.  55.  27.]\n",
      " [ 16.  69.  27.]\n",
      " [ 17.  83.  27.]\n",
      " [ 18.  97.  27.]\n",
      " [ 19. 111.  27.]\n",
      " [ 20. 125.  27.]\n",
      " [ 21. 139.  27.]\n",
      " [ 22. 153.  27.]\n",
      " [ 23.  14.  29.]\n",
      " [ 24.  28.  29.]\n",
      " [ 25.  41.  29.]\n",
      " [ 26.  55.  29.]\n",
      " [ 27.  69.  29.]\n",
      " [ 28.  83.  29.]\n",
      " [ 29.  97.  29.]\n",
      " [ 30. 111.  29.]\n",
      " [ 31. 125.  29.]\n",
      " [ 32. 139.  29.]\n",
      " [ 33. 153.  29.]\n",
      " [ 34.  14.  31.]\n",
      " [ 35.  28.  31.]\n",
      " [ 36.  41.  31.]\n",
      " [ 37.  55.  31.]\n",
      " [ 38.  69.  31.]\n",
      " [ 39.  83.  31.]\n",
      " [ 40.  97.  31.]\n",
      " [ 41. 111.  31.]\n",
      " [ 42. 125.  31.]\n",
      " [ 43. 139.  31.]\n",
      " [ 44. 153.  31.]]\n"
     ]
    }
   ],
   "source": [
    "print(requiredData)"
   ]
  },
  {
   "cell_type": "code",
   "execution_count": null,
   "metadata": {},
   "outputs": [],
   "source": []
  }
 ],
 "metadata": {
  "kernelspec": {
   "display_name": "Python 3",
   "language": "python",
   "name": "python3"
  },
  "language_info": {
   "codemirror_mode": {
    "name": "ipython",
    "version": 3
   },
   "file_extension": ".py",
   "mimetype": "text/x-python",
   "name": "python",
   "nbconvert_exporter": "python",
   "pygments_lexer": "ipython3",
   "version": "3.7.1"
  }
 },
 "nbformat": 4,
 "nbformat_minor": 2
}
